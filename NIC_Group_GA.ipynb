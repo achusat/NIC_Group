{
 "cells": [
  {
   "cell_type": "markdown",
   "id": "1803dfaf",
   "metadata": {},
   "source": [
    "#  1. Fundalmental functions of EA for TTP"
   ]
  },
  {
   "cell_type": "code",
   "execution_count": 46,
   "id": "dadb99e6",
   "metadata": {},
   "outputs": [],
   "source": [
    "from bs4 import BeautifulSoup as bs\n",
    "import lxml\n",
    "from random import choice\n",
    "import random\n",
    "import numpy as np\n",
    "import time\n",
    "import glob\n",
    "import matplotlib.pyplot as plt"
   ]
  },
  {
   "cell_type": "code",
   "execution_count": 47,
   "id": "e3681f79",
   "metadata": {},
   "outputs": [],
   "source": [
    "def ReadFile(data_set_number):    \n",
    "    if data_set_number==0:\n",
    "        file_path = 'a280-n1395.txt'\n",
    "    elif data_set_number==1:    \n",
    "        file_path = 'a280-n279.txt'\n",
    "    elif data_set_number==2: \n",
    "        file_path = 'a280-n2790.txt'\n",
    "    elif data_set_number==3: \n",
    "        file_path = 'fnl4461-n22300.txt'\n",
    "    elif data_set_number==4: \n",
    "        file_path = 'fnl4461-n4460.txt'\n",
    "    elif data_set_number==5:  \n",
    "        file_path = 'fnl4461-n44600.txt'\n",
    "    elif data_set_number==6: \n",
    "        file_path = 'pla33810-n169045.txt'\n",
    "    elif data_set_number==7: \n",
    "        file_path = 'pla33810-n33809.txt'\n",
    "    elif data_set_number==8: \n",
    "         file_path = 'pla33810-n338090.txt'\n",
    "\n",
    "    with open(file_path, 'r') as file:\n",
    "        file_content = file.readlines()\n",
    "\n",
    "    problem_info = {}\n",
    "    node_coord_section = []\n",
    "    items_section=[]\n",
    "\n",
    "    for line in file_content:\n",
    "        line = line.strip()\n",
    "        if line.startswith('PROBLEM NAME:'):\n",
    "            problem_info['PROBLEM_NAME'] = line.split(':')[-1].strip()            \n",
    "        elif line.startswith('KNAPSACK DATA TYPE:'):\n",
    "            problem_info['KNAPSACK_DATA_TYPE'] = line.split(':')[-1].strip()            \n",
    "        elif line.startswith('DIMENSION:'):\n",
    "            problem_info['DIMENSION'] = int(line.split(':')[-1].strip())           \n",
    "        elif line.startswith('NUMBER OF ITEMS:'):\n",
    "            problem_info['NUMBER_OF_ITEMS'] = int(line.split(':')[-1].strip())            \n",
    "        elif line.startswith('CAPACITY OF KNAPSACK:'):\n",
    "            problem_info['CAPACITY_OF_KNAPSACK'] = int(line.split(':')[-1].strip())\n",
    "        elif line.startswith('MIN SPEED:'):\n",
    "            problem_info['MIN_SPEED'] = float(line.split(':')[-1].strip())            \n",
    "        elif line.startswith('MAX SPEED:'):\n",
    "            problem_info['MAX_SPEED'] = float(line.split(':')[-1].strip())          \n",
    "        elif line.startswith('RENTING RATIO:'):\n",
    "            problem_info['RENTING_RATIO'] = float(line.split(':')[-1].strip())            \n",
    "        elif line.startswith('EDGE_WEIGHT_TYPE:'):\n",
    "            problem_info['EDGE_WEIGHT_TYPE'] = line.split(':')[-1].strip()            \n",
    "        elif line.startswith('NODE_COORD_SECTION'):\n",
    "            break\n",
    "    for line in file_content[len(problem_info) + 1:]:\n",
    "        if line.startswith('ITEMS SECTION'):\n",
    "            break\n",
    "\n",
    "        if line.strip():\n",
    "            index, x, y = map(int, line.split())\n",
    "            node_coord_section.append((index, x, y))\n",
    "\n",
    "    for line in file_content[len(node_coord_section)+len(problem_info) +2 :]:\n",
    "        if line.strip():\n",
    "            index, x, y, z = map(int, line.split())\n",
    "            items_section.append((index, x, y,z))\n",
    "    \n",
    "    dimension = problem_info['DIMENSION']\n",
    "    number_of_items= problem_info['NUMBER_OF_ITEMS']\n",
    "    capacity_of_knapsack = problem_info['CAPACITY_OF_KNAPSACK']\n",
    "    min_speed = problem_info['MIN_SPEED']\n",
    "    max_speed = problem_info['MAX_SPEED']\n",
    "    renting_ration=problem_info['RENTING_RATIO']\n",
    "    \n",
    "    return  dimension,\\\n",
    "            number_of_items,\\\n",
    "            capacity_of_knapsack,\\\n",
    "            min_speed,max_speed,\\\n",
    "            renting_ration,\\\n",
    "            node_coord_section,\\\n",
    "            items_section"
   ]
  },
  {
   "cell_type": "code",
   "execution_count": 48,
   "id": "ea8a659a",
   "metadata": {},
   "outputs": [],
   "source": [
    "#Test-cell\n",
    "# dimension, number_of_items, capacity_of_knapsack, min_speed,max_speed, renting_ratio, node_coord_section, items_section = ReadFile(1)\n",
    "\n",
    "# print(node_coord_section[0])\n",
    "# print(type(node_coord_section[0]))\n",
    "# print(len(node_coord_section))\n",
    "# print(node_coord_section[0][2])\n",
    "# print(dimension)"
   ]
  },
  {
   "cell_type": "markdown",
   "id": "6f9dafb6",
   "metadata": {},
   "source": [
    "<h3>Construct Distance Matrix</h3>"
   ]
  },
  {
   "cell_type": "code",
   "execution_count": 49,
   "id": "a6af9607",
   "metadata": {},
   "outputs": [],
   "source": [
    "import math"
   ]
  },
  {
   "cell_type": "code",
   "execution_count": 50,
   "id": "2fde3c6c",
   "metadata": {},
   "outputs": [],
   "source": [
    "def generate_Dmatrix(node_coord_section):\n",
    "    D = []\n",
    "    for i, source in enumerate(node_coord_section):\n",
    "        source_x = source[1]\n",
    "        source_y = source[2]\n",
    "        row = []\n",
    "        j = 0\n",
    "        while j < len(node_coord_section):\n",
    "            if i==j:\n",
    "                row.append(0)\n",
    "            else:\n",
    "                dest_x = node_coord_section[j][1]\n",
    "                dest_y = node_coord_section[j][2]\n",
    "                dist = math.sqrt((dest_x - source_x)**2 + (dest_y - source_y)**2)\n",
    "                row.append(int(dist))\n",
    "            j += 1\n",
    "        D.append(row)\n",
    "    return D"
   ]
  },
  {
   "cell_type": "code",
   "execution_count": 51,
   "id": "c8197210",
   "metadata": {},
   "outputs": [],
   "source": [
    "#Test-cell\n",
    "# print(generate_Dmatrix(node_coord_section))"
   ]
  },
  {
   "cell_type": "markdown",
   "id": "cec001a4",
   "metadata": {},
   "source": [
    "<h3>Item Matrix</h3>\n",
    "Help locate which items are in which city"
   ]
  },
  {
   "cell_type": "code",
   "execution_count": 52,
   "id": "5440791c",
   "metadata": {},
   "outputs": [],
   "source": [
    "#Test-cell\n",
    "# print(len(items_section))"
   ]
  },
  {
   "cell_type": "code",
   "execution_count": 53,
   "id": "65eefcce",
   "metadata": {},
   "outputs": [],
   "source": [
    "#Get values and weights of items\n",
    "def get_values_weights(items_section):\n",
    "    value = []\n",
    "    weight = []\n",
    "    for item in items_section:\n",
    "        value.append(item[1])\n",
    "        weight.append(item[2])\n",
    "    return value,weight\n",
    "# print(len(get_values_weights(items_section)[0]))\n",
    "# print(len(get_values_weights(items_section)[1]))"
   ]
  },
  {
   "cell_type": "code",
   "execution_count": 54,
   "id": "844925a0",
   "metadata": {},
   "outputs": [],
   "source": [
    "def get_itemlocation(node_coord_section,items_section):\n",
    "    item_location = []\n",
    "    i = 0\n",
    "    while i < len(node_coord_section):\n",
    "        row = [item[0]-1 for j,item in enumerate(items_section) if item[3]-1 == i]\n",
    "        item_location.append(row)\n",
    "        i += 1\n",
    "    return item_location"
   ]
  },
  {
   "cell_type": "code",
   "execution_count": 55,
   "id": "4580e012",
   "metadata": {},
   "outputs": [],
   "source": [
    "#Test-cell\n",
    "# print(len(get_itemlocation(node_coord_section,items_section)))\n",
    "# print(get_itemlocation(node_coord_section,items_section))"
   ]
  },
  {
   "cell_type": "markdown",
   "id": "b32f1ad8",
   "metadata": {},
   "source": [
    "<h3>Make sure that the total weight of the plans does not exceed the 'capacity_of_knapsack'</h3>"
   ]
  },
  {
   "cell_type": "code",
   "execution_count": 56,
   "id": "253354ea",
   "metadata": {},
   "outputs": [],
   "source": [
    "# parameter-a:list of a kp plan\n",
    "def checkCapacity(a):\n",
    "    a=a.copy()\n",
    "    # Check if the total weight exceeds the backpack capacity, and if so, try to remove the item until the conditions are met\n",
    "    while sum(item for i,item in enumerate(weight) if a[i]==1) > capacity_of_knapsack:\n",
    "        # randomly discard\n",
    "        packed_items = [i for i, packed in enumerate(a) if packed==1]\n",
    "        if not packed_items:\n",
    "            break  # if bag is null\n",
    "        item_to_remove = random.choice(packed_items)\n",
    "        a[item_to_remove] = 0\n",
    "    return a    "
   ]
  },
  {
   "cell_type": "markdown",
   "id": "9f493617",
   "metadata": {},
   "source": [
    "<h3>Generate Random Solution for tsp or kp based on the flag</h3>"
   ]
  },
  {
   "cell_type": "code",
   "execution_count": 57,
   "id": "89e1c4cb",
   "metadata": {},
   "outputs": [],
   "source": [
    "def GenerateRandomSolution(n, isTSP):\n",
    "    solution = []\n",
    "    if isTSP:\n",
    "        while len(solution) < n:\n",
    "            g = np.random.randint(n)\n",
    "            #As TSP is permutation problem only one instance of a city is allowed the below check is implemented\n",
    "            if g not in solution:\n",
    "                solution.append(g)\n",
    "    else:\n",
    "        while len(solution) < n:\n",
    "            g = np.random.randint(0,2)\n",
    "            #As packing plan is 0 for item not picked up and 1 for item picked up create list of 0's and 1's of size n\n",
    "            solution.append(g)\n",
    "        solution=checkCapacity(solution)\n",
    "    return solution"
   ]
  },
  {
   "cell_type": "code",
   "execution_count": 58,
   "id": "7bf2d188",
   "metadata": {},
   "outputs": [],
   "source": [
    "#Test-cell\n",
    "# tsp_population = GenerateRandomSolution(dimension, True)\n",
    "# kp_population = GenerateRandomSolution(number_of_items, False)"
   ]
  },
  {
   "cell_type": "markdown",
   "id": "a93c2582",
   "metadata": {},
   "source": [
    "<h3>Generate a population of \"size\" number of random solutions </h3>"
   ]
  },
  {
   "cell_type": "code",
   "execution_count": 59,
   "id": "f9677d25",
   "metadata": {},
   "outputs": [],
   "source": [
    "def GeneratePopulation(size, num_cities, num_items):\n",
    "    tsp_pop = []\n",
    "    kp_pop = []\n",
    "    for i in range(size):\n",
    "        tsp_pop.append(GenerateRandomSolution(num_cities,True))\n",
    "        kp_pop.append(GenerateRandomSolution(num_items,False))\n",
    "    return tsp_pop,kp_pop"
   ]
  },
  {
   "cell_type": "code",
   "execution_count": 60,
   "id": "d2be4f5f",
   "metadata": {},
   "outputs": [],
   "source": [
    "#Test-cell\n",
    "# tsp_population, kp_population = GeneratePopulation(500,dimension,number_of_items)"
   ]
  },
  {
   "cell_type": "markdown",
   "id": "59bd1838",
   "metadata": {},
   "source": [
    "<h3>Calculate total profit of a packing plan</h3>"
   ]
  },
  {
   "cell_type": "code",
   "execution_count": 61,
   "id": "6aca0044",
   "metadata": {},
   "outputs": [],
   "source": [
    "def eval_profit(packing_plan, value_list):\n",
    "    picked_values = np.multiply(packing_plan,value_list)\n",
    "#     print(picked_values)\n",
    "    profit = sum(picked_values)\n",
    "    return profit"
   ]
  },
  {
   "cell_type": "code",
   "execution_count": 62,
   "id": "7fcd292e",
   "metadata": {},
   "outputs": [],
   "source": [
    "#Test-cell\n",
    "# eval_profit(kp_population[0],value)"
   ]
  },
  {
   "cell_type": "markdown",
   "id": "178d9607",
   "metadata": {},
   "source": [
    "<h3>Calculate the speed based on the weight</h3>"
   ]
  },
  {
   "cell_type": "code",
   "execution_count": 63,
   "id": "f4542185",
   "metadata": {},
   "outputs": [],
   "source": [
    "def eval_speed(w):\n",
    "    if w <= capacity_of_knapsack:\n",
    "        Speed = (max_speed - (w*(max_speed-min_speed)/capacity_of_knapsack))\n",
    "    else:\n",
    "        Speed = min_speed\n",
    "    return Speed"
   ]
  },
  {
   "cell_type": "code",
   "execution_count": 64,
   "id": "2851398d",
   "metadata": {},
   "outputs": [],
   "source": [
    "#Test-cell\n",
    "# eval_speed(100000)"
   ]
  },
  {
   "cell_type": "markdown",
   "id": "0c8202a3",
   "metadata": {},
   "source": [
    "<h3>Calculate the time for journey</h3>\n",
    "Affected by the items picked up"
   ]
  },
  {
   "cell_type": "code",
   "execution_count": 65,
   "id": "e3a207ff",
   "metadata": {},
   "outputs": [],
   "source": [
    "def eval_time(tour, packing_plan, item_location, item_weight):\n",
    "    total_weight = 0\n",
    "    total_time = 0\n",
    "    for i,city in enumerate(tour):\n",
    "        current_weight = []\n",
    "        if i < dimension-1:       \n",
    "            items = item_location[i]\n",
    "            if items:\n",
    "                current_weight = [packing_plan[j]*item_weight[j] for j in items]\n",
    "                total_weight += sum(list(current_weight))\n",
    "            \n",
    "            speed = eval_speed(total_weight)\n",
    "            total_time += D[i][i+1]/speed\n",
    "        else:\n",
    "            items = item_location[i]\n",
    "            if items:\n",
    "                current_weight = [packing_plan[j]*item_weight[j] for j in items]\n",
    "                total_weight += sum(list(current_weight))\n",
    "            \n",
    "            speed = eval_speed(total_weight)\n",
    "            total_time += D[i][0]/speed\n",
    "    return total_time"
   ]
  },
  {
   "cell_type": "code",
   "execution_count": 66,
   "id": "59b8ac6b",
   "metadata": {},
   "outputs": [],
   "source": [
    "#Test-cell\n",
    "# eval_time(tsp_population[0], kp_population[0], item_location, weight)"
   ]
  },
  {
   "cell_type": "code",
   "execution_count": 67,
   "id": "d65d5218",
   "metadata": {},
   "outputs": [],
   "source": [
    "def eval_fitness(profit, time):\n",
    "    fitness = profit - (renting_ratio*time)\n",
    "    return fitness"
   ]
  },
  {
   "cell_type": "code",
   "execution_count": 68,
   "id": "49ce9433",
   "metadata": {},
   "outputs": [],
   "source": [
    "#Test-cell\n",
    "# eval_fitness(352813,9387.768041331798)"
   ]
  },
  {
   "cell_type": "markdown",
   "id": "0d5a4410",
   "metadata": {},
   "source": [
    "<h6>Evaluate Fitness of entire population</h6>"
   ]
  },
  {
   "cell_type": "code",
   "execution_count": 69,
   "id": "4add2596",
   "metadata": {},
   "outputs": [],
   "source": [
    "def eval_population_fitness(tsp_pop, kp_pop,item_location,weight,value):\n",
    "    pop_fitness = []\n",
    "    for tour,packing_plan in zip(tsp_pop,kp_pop):\n",
    "        time = eval_time(tour, packing_plan, item_location, weight)\n",
    "        profit = eval_profit(packing_plan, value)\n",
    "        fitness = eval_fitness(profit, time)\n",
    "        pop_fitness.append(fitness)\n",
    "    return pop_fitness"
   ]
  },
  {
   "cell_type": "markdown",
   "id": "3f04ad48",
   "metadata": {},
   "source": [
    "<h6>Crossover functions</h6>\n",
    "Crossover with fix for tsp\n",
    "Normal crossover for kp"
   ]
  },
  {
   "cell_type": "code",
   "execution_count": 70,
   "id": "48d1f8f5",
   "metadata": {},
   "outputs": [],
   "source": [
    "def CrossoverWithFix(a,b,c,d):\n",
    "    #Choose a random point for crossover\n",
    "    p = np.random.randint(1,len(a))\n",
    "    #Split the chromosomes into 2 sections based on the crossover point\n",
    "    a_left = a[:p]\n",
    "    a_right = a[p:]\n",
    "    b_left = b[:p]\n",
    "    b_right = b[p:]\n",
    "    #Form the children by combining the left section of one parent with the right section of the other parent\n",
    "    a_new = a_left + b_right\n",
    "    b_new = b_left + a_right\n",
    "    #find missing and conflicting elements of a_new\n",
    "    a_missing = [i for i in a if i not in a_new]\n",
    "    a_conflict = [i for i in a_left if i in b_right]\n",
    "    #fix a_new by replacing the conflicting elements with the missing elements\n",
    "    for element in a_new:\n",
    "        if element in a_conflict:\n",
    "            copy = element\n",
    "            a_new[a_new.index(element)] = choice([i for i in a_missing if i not in a_new])\n",
    "            a_conflict.remove(copy)\n",
    "\n",
    "    #find missing and conflicting elements of b_new\n",
    "    b_missing = [i for i in b if i not in b_new]\n",
    "    b_conflict = [i for i in b_left if i in a_right]\n",
    "    #fix b_new by replacing the conflicting elements with the missing elements\n",
    "    for element in b_new:\n",
    "        if element in b_conflict:\n",
    "            copy = element\n",
    "            b_new[b_new.index(element)] = choice([i for i in b_missing if i not in b_new])\n",
    "            b_conflict.remove(copy)\n",
    "    c_new,d_new = Crossover(c,d)\n",
    "    \n",
    "    return a_new, b_new, c_new, d_new"
   ]
  },
  {
   "cell_type": "code",
   "execution_count": 71,
   "id": "bcbe0f9f",
   "metadata": {},
   "outputs": [],
   "source": [
    "def Crossover(a,b):\n",
    "    #Choose a random point for crossover\n",
    "    p = np.random.randint(1,len(a))\n",
    "    #Split the chromosomes into 2 sections based on the crossover point\n",
    "    a_left = a[:p]\n",
    "    a_right = a[p:]\n",
    "    b_left = b[:p]\n",
    "    b_right = b[p:]\n",
    "    #Form the children by combining the left section of one parent with the right section of the other parent\n",
    "    a_new = a_left + b_right\n",
    "    b_new = b_left + a_right\n",
    "    #make sure current pack's capacity wont overweight\n",
    "    a_new=checkCapacity(a_new)\n",
    "    b_new=checkCapacity(a_new)\n",
    "    \n",
    "    return a_new,b_new"
   ]
  },
  {
   "cell_type": "markdown",
   "id": "df7c0190",
   "metadata": {},
   "source": [
    "<h6>Mutation Function</h6>"
   ]
  },
  {
   "cell_type": "code",
   "execution_count": 72,
   "id": "9cd2ddf5",
   "metadata": {},
   "outputs": [],
   "source": [
    "def SwapMutation(chromosome):\n",
    "    #Choose 2 indices p1 and p2 randomly and p1 != p2\n",
    "    p1 = np.random.randint(len(chromosome))\n",
    "    p1_list = []\n",
    "    p1_list.append(p1)\n",
    "    p2 = choice([i for i in range(len(chromosome)) if i not in p1_list])\n",
    "    #Swap the values at the p1 and p2 indices\n",
    "    temp = chromosome[p1]\n",
    "    chromosome[p1] = chromosome[p2]\n",
    "    chromosome[p2] = temp\n",
    "\n",
    "    return chromosome"
   ]
  },
  {
   "cell_type": "code",
   "execution_count": 73,
   "id": "f0ed6d46",
   "metadata": {},
   "outputs": [],
   "source": [
    "## Function which replaces part of the KS problem with newly generated solutions, different form of mutation\n",
    "def PartialMixMutation(chromosome): \n",
    "    ##number of Replacements\n",
    "    nOR = 5\n",
    "    ##Define new mutatedGene\n",
    "    mutatedGene = chromosome\n",
    "    ##define length of chromosome\n",
    "    length = len(chromosome)\n",
    "    ##Generate position where next 5 values will be changed\n",
    "    pos1 =random.randint(0,length-nOR)\n",
    "    ##Delete Set number of Values\n",
    "    for i in range(nOR):\n",
    "        mutatedGene = np.delete(mutatedGene,pos1)\n",
    "    ##Insert new values\n",
    "    for j in range(nOR):\n",
    "        value = random.randint(0,1)\n",
    "        mutatedGene = np.insert(mutatedGene,pos1,value)\n",
    "    pythonList = list(mutatedGene)\n",
    "    # make sure current pack's capacity wont overweight\n",
    "    pythonList=checkCapacity(pythonList)\n",
    "    \n",
    "\n",
    "    return pythonList"
   ]
  },
  {
   "cell_type": "markdown",
   "id": "a26daf39",
   "metadata": {},
   "source": [
    "<h6>Selection Function</h6>"
   ]
  },
  {
   "cell_type": "code",
   "execution_count": 74,
   "id": "2b7ab61a",
   "metadata": {},
   "outputs": [],
   "source": [
    "def RankBasedSelection(tsp_pop,kp_pop,pop_fitness):\n",
    "    #Combine the population and its fitness\n",
    "    fitness_population = sorted(zip(pop_fitness, tsp_pop, kp_pop))\n",
    "    #Sort the combined population and fitness based on the fitness values\n",
    "    sorted_tsp_pop = [y for x,y,z in fitness_population]\n",
    "    sorted_kp_pop = [z for x,y,z in fitness_population]\n",
    "    sorted_pop_fitness = [x for x,y,z in fitness_population]\n",
    "    rank = []\n",
    "    #Assign ranks to the solutions in the population\n",
    "    for i in range(len(fitness_population)):\n",
    "        rank.append(i+1)\n",
    "    rank_total = sum(rank)\n",
    "    probability = []\n",
    "    #Find the probabilities of choosing a solution from the population based on its rank\n",
    "    for r in rank:\n",
    "        probability.append(r/rank_total)\n",
    "    indeces = np.arange(len(fitness_population))\n",
    "    #Choose 2 parents randomly based on the rank based probabilities calculated\n",
    "    choice_1, choice_2 = np.random.choice(indeces,2,replace=True,p=probability)\n",
    "#     parent_1, parent_2 = sorted_population[choice_1], sorted_population[choice_2]\n",
    "#     return parent_1,parent_2\n",
    "    return choice_1,choice_2"
   ]
  },
  {
   "cell_type": "markdown",
   "id": "814dccd6",
   "metadata": {},
   "source": [
    "<h3>Replacement Funtion</h3>"
   ]
  },
  {
   "cell_type": "code",
   "execution_count": 75,
   "id": "1ae517bd",
   "metadata": {},
   "outputs": [],
   "source": [
    "def ReplaceWeakest(tsp_pop, kp_pop, pop_fitness, child_tsp, child_kp, child_fitness):\n",
    "    #Find the worst fitness in the population\n",
    "    worst_fitness = min(pop_fitness)\n",
    "    #Replace the worst solution if the new candidate solution is better or the same\n",
    "    if child_fitness >= worst_fitness:\n",
    "        list_index = pop_fitness.index(worst_fitness)\n",
    "        del pop_fitness[list_index]\n",
    "        del tsp_pop[list_index]\n",
    "        del kp_pop[list_index]\n",
    "        tsp_pop.append(child_tsp)\n",
    "        kp_pop.append(child_kp)\n",
    "        pop_fitness.append(child_fitness)\n",
    "    return tsp_pop, kp_pop, pop_fitness"
   ]
  },
  {
   "cell_type": "markdown",
   "id": "efb27b69",
   "metadata": {},
   "source": [
    "<h2> 2. Main GA function- Rank selection, Crossover, Replace Weakest</h2>"
   ]
  },
  {
   "cell_type": "code",
   "execution_count": 76,
   "id": "d64d2cc3",
   "metadata": {},
   "outputs": [],
   "source": [
    "def CodeRun(popSize, Generation,seed):\n",
    "    random.seed(seed)\n",
    "    tsp_population, kp_population = GeneratePopulation(popSize,dimension,number_of_items)\n",
    "    population_fitness = eval_population_fitness(tsp_population, kp_population,item_location,weight,value)\n",
    "    avgFit = [] ################################################################################\n",
    "    bestFit = [] ###############################################################################\n",
    "    avgFit.append(sum(population_fitness)/popSize) ###########################################\n",
    "    bestFit.append(max(population_fitness)) ####################################################\n",
    "    for i in range(Generation):\n",
    "        p1, p2 = RankBasedSelection(tsp_population,kp_population,population_fitness)\n",
    "        tsp_p1 = tsp_population[p1]\n",
    "        tsp_p2 = tsp_population[p2]\n",
    "        kp_p1 = kp_population[p1]\n",
    "        kp_p2 = kp_population[p2]\n",
    "        child1Crossover, child2Crossover, kp_child1, kp_child2 = CrossoverWithFix(tsp_p1,tsp_p2,kp_p1,kp_p2) ##########################\n",
    "        tsp_child1 = SwapMutation(child1Crossover) ########################################\n",
    "        tsp_child2 = SwapMutation(child2Crossover) ########################################\n",
    "        kp_child1 = PartialMixMutation(kp_child1) ########################################\n",
    "        kp_child2 = PartialMixMutation(kp_child2) ########################################\n",
    "        child1_time = eval_time(tsp_child1, kp_child1, item_location, weight)\n",
    "        child1_profit = eval_profit(kp_child1, value)\n",
    "        child1_fitness = eval_fitness(child1_profit, child1_time)\n",
    "        tsp_population, kp_population, population_fitness = ReplaceWeakest(tsp_population, kp_population, population_fitness, tsp_child1, kp_child1, child1_fitness)\n",
    "\n",
    "        child2_time = eval_time(tsp_child2, kp_child2, item_location, weight)\n",
    "        child2_profit = eval_profit(kp_child2, value)\n",
    "        child2_fitness = eval_fitness(child2_profit, child2_time)\n",
    "        tsp_population, kp_population, population_fitness = ReplaceWeakest(tsp_population, kp_population, population_fitness, tsp_child2, kp_child2, child2_fitness)\n",
    "        avgFit.append(sum(population_fitness)/popSize) #######################################\n",
    "        bestFit.append(max(population_fitness)) ####################################################\n",
    "    return avgFit, bestFit"
   ]
  },
  {
   "cell_type": "code",
   "execution_count": 77,
   "id": "02af4106",
   "metadata": {},
   "outputs": [],
   "source": [
    "# file_path:\n",
    "# 0:'a280-n1395.txt'; 1:'a280-n279.txt'; 2:'a280-n2790.txt'; 3:'fnl4461-n22300.txt'; 4:file_path = 'fnl4461-n4460.txt'\n",
    "# 5:file_path = 'fnl4461-n44600.txt'; 6:file_path = 'pla33810-n169045.txt'; 7:file_path = 'pla33810-n33809.txt'; 8:file_path = 'pla33810-n338090.txt'\n",
    "\n",
    "def GetBasicData(file_path):\n",
    "    global dimension, number_of_items, capacity_of_knapsack, min_speed,max_speed, renting_ratio, node_coord_section, items_section,D,value,weight,item_location\n",
    "    dimension, number_of_items, capacity_of_knapsack, min_speed,max_speed, renting_ratio, node_coord_section, items_section=ReadFile(file_path)\n",
    "    D=generate_Dmatrix(node_coord_section)\n",
    "    value,weight=get_values_weights(items_section)\n",
    "    item_location=get_itemlocation(node_coord_section,items_section) "
   ]
  },
  {
   "cell_type": "markdown",
   "id": "295a2a79",
   "metadata": {},
   "source": [
    "# 3. Experiments：Adjust the parameters & draw plots of results"
   ]
  },
  {
   "cell_type": "code",
   "execution_count": 78,
   "id": "9a04819e",
   "metadata": {},
   "outputs": [],
   "source": [
    "### a280 n279\n",
    "# experiment parameters\n",
    "seed=2000\n",
    "popSize=50\n",
    "iterations=10000\n",
    "file_path=0\n",
    "\n",
    "GetBasicData(file_path)\n",
    "Results150a, Best150a = CodeRun(popSize,iterations,seed)\n",
    "# Results150b, Best150b = CodeRun(popSize,iterations,seed)\n",
    "# Results150c, Best150c = CodeRun(popSize,iterations,seed)\n",
    "# Results150d, Best150d = CodeRun(popSize,iterations,seed)\n",
    "# Results150e, Best150e = CodeRun(popSize,iterations,seed)"
   ]
  },
  {
   "cell_type": "code",
   "execution_count": 83,
   "id": "74ca04b3",
   "metadata": {},
   "outputs": [
    {
     "name": "stdout",
     "output_type": "stream",
     "text": [
      "Best Result 54918.585764862655\n"
     ]
    },
    {
     "data": {
      "text/plain": [
       "Text(0, 0.5, 'Fitness')"
      ]
     },
     "execution_count": 83,
     "metadata": {},
     "output_type": "execute_result"
    },
    {
     "data": {
      "image/png": "[encoded data removed]",
      "text/plain": [
       "<Figure size 640x480 with 1 Axes>"
      ]
     },
     "metadata": {},
     "output_type": "display_data"
    }
   ],
   "source": [
    "import matplotlib.pyplot as plt\n",
    "x = range(len(Best150a))\n",
    "plt.plot(x,Best150a)\n",
    "# plt.plot(x,Best150b)\n",
    "# plt.plot(x,Best150c)\n",
    "# plt.plot(x,Best150d)\n",
    "# plt.plot(x,Best150e)\n",
    "print(\"Best Result\",max(Best150a))\n",
    "plt.title(\"Best Fitness in Pop_sze:50,seed:2000\")\n",
    "plt.xlabel(\"EA Generation\")\n",
    "plt.ylabel(\"Fitness\")"
   ]
  },
  {
   "cell_type": "markdown",
   "id": "d269b18a",
   "metadata": {},
   "source": [
    "# 4. Validation-function of Result for different algorithms\n",
    "   1.check the beg's capacity \n",
    "   \n",
    "   2.check the final profit with specific renting_ratio"
   ]
  },
  {
   "cell_type": "code",
   "execution_count": 80,
   "id": "92b568d6",
   "metadata": {},
   "outputs": [],
   "source": [
    "# calculate distance_matrix\n",
    "def dixtance_matrix(city_data):\n",
    "    num_cities = len(city_data)\n",
    "    distance_matrix = np.zeros((num_cities, num_cities))\n",
    "\n",
    "    for i in range(num_cities):\n",
    "        for j in range(num_cities):\n",
    "            if i != j:\n",
    "                distance_matrix[i, j] = np.sqrt((city_data.iloc[i]['X'] - city_data.iloc[j]['X'])**2 + (city_data.iloc[i]['Y'] - city_data.iloc[j]['Y'])**2) \n",
    "    return distance_matrix   \n",
    "\n",
    "def extract_section(file, start_marker, end_marker=None):\n",
    "    \"\"\"Extracts a section from the file starting from start_marker until end_marker, or the end of file if end_marker is None.\"\"\"\n",
    "    lines = []\n",
    "    capture = False\n",
    "    for line in file:\n",
    "        if start_marker in line:\n",
    "            capture = True\n",
    "            continue\n",
    "        if end_marker and end_marker in line:\n",
    "            break\n",
    "        if capture:\n",
    "            lines.append(line.strip())\n",
    "    return lines\n",
    "\n",
    "def write_to_csv(filename, data, header):\n",
    "    \"\"\"Writes data to a CSV file.\"\"\"\n",
    "    with open(filename, 'w', newline='') as csvfile:\n",
    "        writer = csv.writer(csvfile)\n",
    "        writer.writerow(header)\n",
    "        for row in data:\n",
    "            writer.writerow(row.split())\n",
    "\n",
    "def V_eval_time(tour, packing_plan, item_location,capacity_of_knapsack,max_speed,min_speed):\n",
    "    total_weight = 0\n",
    "    total_time = 0\n",
    "    for i,city in enumerate(tour):\n",
    "        current_weight = []\n",
    "        items = item_location[i]\n",
    "        if items:       \n",
    "            current_weight = [packing_plan[item[0]-1]*item[2] for item in items]\n",
    "            total_weight += sum(list(current_weight))\n",
    "        speed = V_eval_speed(total_weight,capacity_of_knapsack,max_speed,min_speed)\n",
    "        if i < len(tour)-1:\n",
    "            total_time += D[i][i+1]/speed\n",
    "        else:\n",
    "            total_time += D[i][0]/speed\n",
    "    return total_time\n",
    "\n",
    "def V_eval_speed(total_weight,capacity_of_knapsack,max_speed,min_speed):\n",
    "    if total_weight <= capacity_of_knapsack:\n",
    "        Speed = (max_speed - (total_weight*(max_speed-min_speed)/capacity_of_knapsack))\n",
    "    else:\n",
    "        Speed = min_speed\n",
    "    return Speed\n",
    "\n",
    "def V_eval_profit(packing_plan, value_list):\n",
    "    picked_values = np.multiply(packing_plan,value_list)\n",
    "    profit = sum(picked_values)\n",
    "    return profit\n",
    "\n",
    "def V_eval_fitness(profit, time):\n",
    "    fitness = profit - (renting_ratio*time)\n",
    "    return fitness"
   ]
  },
  {
   "cell_type": "code",
   "execution_count": 81,
   "id": "6930e573",
   "metadata": {},
   "outputs": [],
   "source": [
    "import csv\n",
    "import pandas as pd\n",
    "# parameter_example:\n",
    "#      route: [2,3,4,1,....]\n",
    "#    kp_plan: [0,1,0,1,1,1,0,0,0,.....]\n",
    "#   file_dir: \"a280-n1395.txt\"...\n",
    "# return:\n",
    "#    profit,totle_time_cost,total_value   \n",
    "def validation_function(route,kp_plan,file_dir):\n",
    "#   Open the text file\n",
    "    with open(file_dir, \"r\") as f:\n",
    "        lines = f.readlines()  \n",
    "        f.seek(0)  # 重置文件指针到文件开头\n",
    "        city_data = extract_section(f, 'NODE_COORD_SECTION', 'ITEMS SECTION')\n",
    "        # Extract item information\n",
    "        f.seek(0)  # Go back to the beginning of the file\n",
    "        item_data = extract_section(f, 'ITEMS SECTION', None)\n",
    "  \n",
    "    dimension = int(lines[2].split(\":\")[1].strip())\n",
    "    num_of_items = int(lines[3].split(\":\")[1].strip())\n",
    "    knapsack_capacity = float(lines[4].split(\":\")[1].strip())\n",
    "    min_speed = float(lines[5].split(\":\")[1].strip())\n",
    "    max_speed = float(lines[6].split(\":\")[1].strip())\n",
    "    renting_ratio = float(lines[7].split(\":\")[1].strip())\n",
    "    # Write city data to a CSV file\n",
    "    write_to_csv('city_data.csv', city_data, ['INDEX', 'X', 'Y'])\n",
    "    city_data = pd.read_csv('city_data.csv')\n",
    "    # Write item data to a CSV file\n",
    "    write_to_csv('item_data.csv', item_data, ['index', 'profit', 'weight', 'city'])\n",
    "    item_data = pd.read_csv('item_data.csv')\n",
    "    \n",
    "#   validate the validity of parameters\n",
    "    if len(route)!= dimension:\n",
    "        raise TypeError(\"parameter wrong：Wrong number of cities\")\n",
    "    if len(kp_plan)!= num_of_items:\n",
    "        raise TypeError(\"parameter wrong：Wrong number of items\")\n",
    "    if sum(row[2] for i,row in item_data.iterrows() if kp_plan[i]==1) > knapsack_capacity:\n",
    "        raise TypeError(\"the items overweight\")\n",
    "           \n",
    "    distance_matrix=dixtance_matrix(city_data)\n",
    "\n",
    "    item_location = []\n",
    "    for i in range(dimension):\n",
    "        rows = [row for j, row in item_data.iterrows() if row[3] - 1 == i]\n",
    "        item_location.append(rows)\n",
    "    total_time_cost =V_eval_time(route, kp_plan, item_location,knapsack_capacity,max_speed,min_speed)\n",
    "    value_list=[row[1] for i,row in item_data.iterrows()]\n",
    "    profit_of_items=V_eval_profit(kp_plan, value_list)\n",
    "    final_fitness= V_eval_fitness(profit_of_items, total_time_cost)\n",
    "    return final_fitness,total_time_cost,profit_of_items   "
   ]
  },
  {
   "cell_type": "code",
   "execution_count": 82,
   "id": "3d826765",
   "metadata": {},
   "outputs": [
    {
     "name": "stdout",
     "output_type": "stream",
     "text": [
      "final_fitness: -35141.92425039841\n",
      "total_time_cost: 4439.765120363114\n",
      "profit_of_items: 287629\n"
     ]
    }
   ],
   "source": [
    "route=[253, 104, 208, 24, 275, 52, 135, 120, 73, 94, 244, 179, 174, 36, 200, 47, 264, 107, 133, 153, 77, 259, 145, 142, 139, 118, 12, 187, 95, 134, 136, 212, 137, 83, 171, 238, 279, 185, 87, 203, 269, 93, 184, 254, 211, 29, 144, 197, 173, 43, 40, 5, 222, 201, 207, 237, 101, 149, 123, 194, 224, 35, 241, 250, 44, 15, 216, 63, 164, 151, 271, 240, 34, 206, 10, 268, 257, 21, 128, 181, 175, 161, 221, 272, 243, 106, 219, 252, 165, 30, 265, 223, 225, 129, 152, 113, 215, 90, 245, 228, 114, 45, 111, 33, 0, 266, 121, 141, 105, 57, 249, 156, 25, 138, 233, 99, 188, 157, 41, 62, 189, 72, 28, 230, 143, 53, 278, 260, 102, 273, 92, 48, 69, 66, 218, 74, 49, 262, 183, 155, 91, 191, 177, 39, 169, 227, 214, 112, 261, 258, 163, 9, 131, 54, 67, 76, 11, 246, 50, 148, 19, 1, 270, 6, 85, 235, 196, 100, 158, 251, 23, 159, 226, 110, 46, 255, 79, 193, 274, 119, 190, 182, 68, 70, 14, 98, 51, 37, 150, 267, 32, 195, 88, 125, 55, 75, 256, 130, 232, 239, 3, 276, 103, 26, 124, 16, 17, 205, 97, 234, 82, 58, 204, 65, 186, 166, 248, 2, 162, 84, 7, 8, 56, 42, 109, 199, 59, 229, 170, 38, 146, 236, 89, 61, 86, 78, 71, 180, 27, 160, 140, 115, 18, 263, 202, 154, 220, 127, 13, 122, 22, 247, 147, 116, 167, 117, 242, 231, 81, 217, 64, 132, 198, 277, 209, 60, 108, 178, 192, 80, 172, 213, 210, 96, 4, 20, 126, 168, 31, 176]\n",
    "kp_plan=[0, 1, 0, 0, 0, 1, 0, 0, 1, 0, 0, 0, 0, 1, 0, 0, 0, 0, 0, 0, 0, 0, 0, 0, 1, 0, 1, 1, 0, 1, 1, 1, 0, 0, 0, 0, 0, 0, 0, 1, 0, 0, 0, 0, 0, 1, 0, 0, 0, 0, 0, 0, 1, 0, 0, 0, 1, 0, 1, 1, 0, 0, 0, 0, 0, 1, 0, 0, 1, 0, 0, 1, 0, 1, 1, 0, 0, 0, 0, 0, 0, 0, 0, 0, 0, 1, 1, 0, 1, 1, 0, 1, 0, 0, 0, 0, 0, 0, 0, 0, 0, 0, 0, 0, 0, 1, 0, 0, 0, 0, 1, 1, 0, 0, 0, 1, 0, 0, 0, 0, 1, 1, 0, 0, 0, 0, 0, 0, 0, 1, 0, 1, 0, 1, 0, 0, 0, 0, 1, 0, 0, 1, 1, 0, 1, 1, 0, 1, 0, 1, 0, 0, 0, 0, 0, 0, 0, 0, 0, 0, 0, 0, 1, 0, 1, 0, 0, 0, 1, 0, 1, 0, 0, 1, 0, 1, 0, 0, 0, 0, 1, 1, 0, 0, 1, 0, 0, 0, 0, 0, 1, 0, 0, 0, 1, 1, 0, 1, 0, 0, 0, 1, 0, 0, 0, 0, 1, 0, 0, 0, 1, 1, 0, 0, 0, 1, 0, 0, 0, 0, 1, 1, 0, 1, 1, 1, 0, 0, 1, 0, 1, 0, 1, 1, 0, 0, 1, 0, 1, 0, 0, 0, 1, 1, 1, 0, 1, 1, 0, 0, 1, 1, 1, 0, 0, 0, 0, 0, 0, 1, 0, 1, 0, 0, 1, 0, 1, 0, 1, 0, 0, 1, 1, 1, 0, 1, 1, 1, 1, 0, 0, 1, 0, 0, 0, 0, 0, 0, 1, 0, 1, 1, 1, 1, 1, 0, 0, 0, 0, 0, 0, 0, 0, 0, 0, 1, 0, 0, 0, 1, 1, 0, 0, 0, 0, 0, 1, 0, 1, 0, 1, 1, 0, 0, 0, 0, 1, 0, 1, 0, 1, 0, 1, 1, 0, 0, 0, 1, 0, 1, 1, 1, 1, 1, 0, 0, 0, 0, 1, 0, 0, 1, 0, 0, 0, 0, 0, 0, 0, 1, 1, 0, 0, 1, 1, 0, 0, 0, 1, 0, 0, 0, 0, 0, 0, 0, 0, 1, 0, 0, 1, 1, 0, 1, 0, 0, 0, 1, 0, 0, 0, 1, 1, 1, 0, 0, 0, 0, 1, 0, 1, 1, 0, 0, 0, 0, 0, 0, 0, 0, 0, 1, 0, 0, 1, 0, 0, 0, 0, 1, 0, 0, 0, 0, 0, 0, 0, 0, 0, 1, 0, 0, 0, 1, 0, 0, 0, 0, 0, 1, 0, 0, 0, 0, 0, 0, 1, 1, 1, 0, 0, 0, 0, 0, 1, 1, 0, 1, 1, 0, 0, 1, 0, 1, 1, 0, 1, 0, 0, 1, 0, 0, 0, 1, 0, 0, 0, 0, 0, 0, 1, 1, 0, 1, 0, 1, 0, 0, 1, 0, 0, 0, 1, 0, 0, 0, 0, 1, 0, 0, 0, 0, 0, 0, 1, 1, 0, 1, 1, 1, 0, 1, 0, 1, 1, 0, 1, 0, 1, 0, 1, 1, 0, 0, 0, 0, 1, 1, 1, 1, 0, 1, 1, 1, 1, 0, 0, 0, 0, 1, 1, 1, 0, 0, 0, 0, 0, 1, 0, 1, 1, 1, 1, 1, 1, 1, 0, 1, 0, 1, 1, 1, 0, 1, 0, 0, 1, 0, 0, 1, 0, 0, 0, 0, 0, 0, 0, 0, 0, 0, 1, 0, 0, 0, 1, 0, 1, 0, 0, 0, 0, 0, 0, 0, 1, 0, 0, 1, 0, 0, 1, 1, 0, 0, 0, 0, 1, 0, 0, 1, 0, 1, 1, 0, 0, 0, 0, 0, 0, 0, 0, 1, 0, 1, 1, 1, 0, 0, 0, 1, 0, 0, 1, 0, 1, 0, 0, 0, 0, 0, 0, 1, 0, 0, 1, 0, 0, 1, 1, 0, 1, 0, 1, 0, 0, 0, 0, 0, 1, 0, 0, 1, 0, 0, 1, 0, 0, 0, 0, 0, 0, 1, 0, 0, 1, 1, 0, 1, 0, 1, 1, 0, 0, 0, 0, 0, 1, 0, 0, 1, 0, 0, 1, 1, 0, 0, 0, 0, 0, 0, 0, 0, 0, 0, 0, 0, 1, 0, 0, 0, 0, 0, 0, 0, 0, 1, 1, 0, 1, 1, 0, 0, 0, 0, 1, 1, 0, 1, 1, 0, 0, 1, 0, 0, 1, 1, 0, 0, 1, 0, 0, 1, 1, 0, 0, 0, 1, 0, 1, 1, 1, 1, 1, 0, 0, 0, 1, 0, 1, 0, 0, 0, 1, 1, 0, 0, 1, 0, 0, 1, 0, 1, 1, 0, 1, 1, 0, 0, 0, 0, 0, 1, 0, 1, 1, 1, 1, 1, 1, 0, 0, 0, 1, 1, 1, 1, 0, 1, 0, 0, 0, 1, 0, 1, 1, 0, 0, 1, 1, 1, 0, 1, 0, 1, 1, 0, 0, 1, 1, 0, 0, 1, 1, 1, 1, 0, 0, 0, 1, 1, 0, 1, 1, 0, 1, 1, 0, 0, 0, 1, 0, 0, 0, 0, 1, 0, 0, 0, 0, 0, 1, 0, 0, 1, 0, 0, 0, 0, 0, 0, 0, 0, 1, 0, 0, 1, 1, 0, 0, 0, 0, 0, 0, 0, 0, 0, 0, 1, 0, 0, 0, 0, 0, 0, 0, 0, 0, 1, 0, 1, 0, 0, 0, 1, 0, 1, 0, 0, 0, 1, 0, 0, 0, 1, 0, 0, 0, 0, 1, 1, 1, 0, 0, 1, 1, 0, 1, 1, 0, 0, 0, 1, 0, 1, 1, 1, 0, 0, 0, 0, 0, 1, 0, 0, 0, 1, 0, 1, 0, 0, 0, 1, 1, 0, 0, 0, 0, 1, 0, 0, 1, 0, 0, 0, 1, 0, 1, 0, 0, 0, 0, 0, 1, 0, 1, 1, 0, 0, 1, 1, 1, 0, 0, 1, 0, 0, 0, 0, 1, 1, 0, 1, 0, 0, 1, 0, 0, 0, 0, 0, 0, 0, 0, 1, 0, 1, 0, 1, 0, 1, 1, 0, 0, 1, 0, 0, 1, 0, 1, 0, 0, 0, 0, 1, 0, 1, 1, 0, 0, 1, 0, 1, 0, 0, 0, 0, 0, 0, 0, 0, 0, 1, 0, 0, 0, 1, 0, 1, 0, 0, 1, 0, 1, 0, 0, 0, 0, 0, 0, 0, 1, 0, 1, 0, 1, 1, 0, 1, 0, 0, 0, 0, 0, 1, 1, 0, 1, 0, 1, 1, 0, 0, 1, 1, 1, 0, 0, 0, 1, 0, 0, 0, 0, 1, 1, 1, 0, 1, 0, 1, 1, 1, 1, 1, 1, 0, 0, 0, 0, 0, 0, 1, 1, 0, 1, 0, 1, 0, 0, 1, 1, 1, 1, 0, 0, 1, 0, 0, 0, 1, 0, 0, 0, 0, 0, 0, 1, 0, 1, 1, 0, 0, 0, 0, 1, 1, 1, 0, 0, 0, 0, 1, 1, 1, 0, 0, 0, 1, 1, 0, 0, 0, 0, 0, 0, 0, 1, 0, 0, 0, 0, 1, 0, 0, 0, 0, 0, 1, 0, 0, 1, 0, 0, 0, 0, 0, 0, 1, 1, 0, 1, 0, 0, 1, 0, 1, 0, 0, 0, 1, 0, 0, 0, 1, 1, 1, 1, 1, 1, 1, 0, 1, 0, 0, 0, 0, 1, 0, 0, 1, 0, 1, 0, 1, 0, 0, 1, 0, 1, 0, 0, 0, 0, 0, 0, 0, 0, 0, 0, 0, 1, 1, 1, 0, 0, 0, 0, 0, 0, 1, 1, 1, 0, 0, 0, 0, 0, 0, 1, 0, 0, 0, 0, 0, 0, 1, 0, 0, 0, 0, 0, 0, 0, 0, 0, 0, 0, 0, 0, 0, 0, 1, 1, 1, 0, 0, 0, 0, 1, 0, 1, 1, 0, 0, 1, 0, 0, 0, 0, 1, 1, 0, 0, 1, 0, 0, 0, 1, 0, 0, 1, 1, 0, 0, 1, 1, 0, 0, 0, 0, 1, 0, 0, 0, 1, 1, 1, 0, 0, 1, 0, 1, 0, 0, 0, 1, 0, 1, 0, 1, 0, 0, 1, 0, 1, 1, 1, 1, 0, 1, 0, 1, 0, 1, 0, 0, 1, 1, 0, 1, 1, 1, 1, 1, 0, 0, 0, 0, 0, 1, 0, 1, 1, 0, 0, 0, 1, 0, 1, 1, 0, 0, 0, 0, 1, 0, 0, 1, 1, 1, 1, 0, 0, 0, 0, 1, 1, 0, 1, 0, 1, 1, 1, 1, 1]\n",
    " \n",
    "# route=[146, 78, 138, 53, 93, 250, 188, 157, 155, 173, 126, 91, 71, 219, 199, 257, 136, 17, 79, 262, 165, 111, 168, 135, 174, 45, 263, 273, 204, 109, 150, 261, 84, 105, 122, 175, 240, 235, 5, 19, 110, 134, 156, 3, 51, 159, 161, 90, 116, 239, 127, 13, 196, 98, 142, 61, 124, 129, 14, 92, 213, 230, 277, 120, 66, 259, 44, 192, 24, 58, 131, 232, 228, 2, 73, 29, 171, 279, 6, 245, 275, 272, 201, 145, 121, 208, 167, 269, 76, 67, 177, 151, 268, 198, 197, 203, 276, 43, 169, 88, 65, 264, 118, 12, 258, 33, 21, 163, 180, 22, 94, 119, 234, 238, 46, 152, 27, 153, 9, 123, 220, 1, 50, 231, 54, 39, 57, 147, 42, 56, 7, 37, 60, 207, 266, 252, 255, 112, 48, 154, 83, 113, 108, 133, 247, 179, 139, 103, 244, 211, 182, 52, 162, 34, 212, 164, 265, 10, 160, 82, 233, 26, 75, 249, 8, 77, 251, 271, 237, 86, 99, 97, 223, 225, 63, 89, 191, 209, 102, 193, 216, 106, 96, 74, 28, 62, 100, 210, 117, 47, 64, 256, 31, 229, 0, 87, 101, 186, 176, 278, 217, 18, 243, 202, 166, 274, 128, 184, 132, 115, 221, 38, 11, 68, 200, 181, 36, 241, 59, 195, 267, 172, 69, 218, 254, 85, 95, 242, 143, 55, 222, 141, 35, 23, 70, 215, 158, 72, 185, 80, 125, 253, 30, 190, 81, 224, 130, 246, 107, 20, 183, 32, 140, 194, 248, 206, 49, 16, 178, 15, 148, 205, 189, 40, 170, 227, 4, 41, 236, 270, 104, 187, 260, 25, 214, 149, 144, 226, 137, 114]\n",
    "# kp_plan=[1, 0, 1, 1, 0, 0, 0, 0, 0, 0, 0, 0, 0, 0, 0, 0, 0, 0, 0, 0, 1, 0, 0, 0, 0, 0, 0, 0, 0, 0, 0, 0, 0, 0, 0, 0, 0, 0, 0, 0, 0, 0, 0, 0, 0, 0, 0, 0, 0, 1, 1, 0, 0, 0, 0, 0, 0, 0, 0, 0, 0, 0, 0, 0, 0, 1, 1, 0, 0, 0, 0, 0, 0, 0, 0, 0, 0, 0, 0, 0, 0, 0, 0, 1, 0, 1, 1, 0, 0, 0, 0, 0, 0, 0, 0, 0, 0, 0, 1, 0, 0, 0, 0, 0, 0, 1, 1, 0, 0, 0, 0, 0, 0, 0, 0, 0, 0, 0, 0, 0, 0, 0, 0, 0, 0, 0, 1, 0, 0, 0, 0, 0, 0, 0, 0, 0, 0, 0, 0, 0, 0, 0, 0, 0, 0, 0, 0, 0, 1, 0, 1, 0, 0, 0, 0, 0, 1, 0, 0, 0, 0, 0, 0, 0, 0, 0, 0, 0, 0, 0, 0, 0, 0, 0, 0, 0, 0, 0, 0, 0, 1, 0, 0, 0, 0, 0, 0, 0, 0, 0, 0, 0, 0, 0, 0, 0, 0, 0, 0, 0, 0, 0, 0, 0, 0, 0, 0, 0, 0, 0, 1, 0, 0, 1, 1, 1, 0, 0, 0, 0, 1, 0, 0, 1, 0, 0, 0, 0, 0, 0, 1, 0, 0, 0, 0, 0, 0, 0, 0, 0, 0, 0, 1, 0, 0, 0, 0, 0, 1, 0, 0, 0, 0, 0, 0, 0, 0, 0, 0, 1, 0, 0, 0, 0, 1, 1, 1, 0, 1, 1, 0, 0, 1, 1, 0, 1, 0, 1, 1]\n",
    "\n",
    "file_dir='a280-n1395.txt' # \"a280-n279.txt\"\n",
    "final_fitness,total_time_cost,profit_of_items =validation_function(route,kp_plan,file_dir)\n",
    "print('final_fitness:',final_fitness)\n",
    "print('total_time_cost:',total_time_cost)\n",
    "print('profit_of_items:',profit_of_items)"
   ]
  },
  {
   "cell_type": "code",
   "execution_count": null,
   "id": "9a7af307",
   "metadata": {},
   "outputs": [],
   "source": []
  }
 ],
 "metadata": {
  "kernelspec": {
   "display_name": "Python 3 (ipykernel)",
   "language": "python",
   "name": "python3"
  },
  "language_info": {
   "codemirror_mode": {
    "name": "ipython",
    "version": 3
   },
   "file_extension": ".py",
   "mimetype": "text/x-python",
   "name": "python",
   "nbconvert_exporter": "python",
   "pygments_lexer": "ipython3",
   "version": "3.11.4"
  }
 },
 "nbformat": 4,
 "nbformat_minor": 5
}
